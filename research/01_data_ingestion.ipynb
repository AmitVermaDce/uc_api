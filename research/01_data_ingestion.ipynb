{
 "cells": [
  {
   "cell_type": "code",
   "execution_count": 1,
   "metadata": {},
   "outputs": [],
   "source": [
    "import os"
   ]
  },
  {
   "cell_type": "code",
   "execution_count": 2,
   "metadata": {},
   "outputs": [
    {
     "data": {
      "text/plain": [
       "'c:\\\\Work\\\\Tasks\\\\Repo\\\\uc_api\\\\research'"
      ]
     },
     "execution_count": 2,
     "metadata": {},
     "output_type": "execute_result"
    }
   ],
   "source": [
    "%pwd"
   ]
  },
  {
   "cell_type": "code",
   "execution_count": 3,
   "metadata": {},
   "outputs": [],
   "source": [
    "os.chdir(\"../\")"
   ]
  },
  {
   "cell_type": "code",
   "execution_count": 4,
   "metadata": {},
   "outputs": [
    {
     "data": {
      "text/plain": [
       "'c:\\\\Work\\\\Tasks\\\\Repo\\\\uc_api'"
      ]
     },
     "execution_count": 4,
     "metadata": {},
     "output_type": "execute_result"
    }
   ],
   "source": [
    "%pwd"
   ]
  },
  {
   "cell_type": "code",
   "execution_count": 5,
   "metadata": {},
   "outputs": [],
   "source": [
    "from dataclasses import dataclass\n",
    "from pathlib import Path\n",
    "\n",
    "\n",
    "@dataclass(frozen=True)\n",
    "class DataIngestionConfig:\n",
    "    # Common Configurations\n",
    "    root_dir: Path   \n",
    "    unzip_dir: Path   \n",
    "    local_data_file: Path\n",
    "\n",
    "    # Common Parameters\n",
    "    data_split_ratio: float   \n",
    "\n",
    "    # Parameters\n",
    "    source_URL: Path  \n",
    "    outsource_file: Path    "
   ]
  },
  {
   "cell_type": "code",
   "execution_count": 6,
   "metadata": {},
   "outputs": [],
   "source": [
    "from src.uc_api.constants import *\n",
    "from src.uc_api.utils.common import read_yaml, create_directories"
   ]
  },
  {
   "cell_type": "code",
   "execution_count": 7,
   "metadata": {},
   "outputs": [],
   "source": [
    "class ConfigurationManager:\n",
    "    def __init__(self, \n",
    "                 config_filepath=CONFIG_FILE_PATH,\n",
    "                 params_filepath=PARAMS_FILE_PATH,\n",
    "        ):\n",
    "\n",
    "        # Reading yaml files for config and params    \n",
    "        self.config = read_yaml(config_filepath) \n",
    "        self.params = read_yaml(params_filepath)  \n",
    "\n",
    "        create_directories([self.config.artifacts_root])\n",
    "\n",
    "    def get_data_ingestion_config(self) -> DataIngestionConfig:\n",
    "        # Common configurations from yaml file\n",
    "        config = self.config.data_ingestion\n",
    "\n",
    "        # Common Parameters from yaml file\n",
    "        params_common = self.params.CommonArguments\n",
    "\n",
    "        create_directories([config.root_dir])\n",
    "\n",
    "        data_ingestion_config = DataIngestionConfig(\n",
    "            # Common Configurations\n",
    "            root_dir=config.root_dir,\n",
    "            unzip_dir=config.unzip_dir,\n",
    "            local_data_file=config.local_data_file,\n",
    "\n",
    "            # Common Parameters\n",
    "            data_split_ratio=params_common.data_split_ratio,\n",
    "\n",
    "            # Use-case specific params -- Sentiment    \n",
    "            source_URL=config.source_URL,\n",
    "            outsource_file=config.outsource_file,            \n",
    "        )\n",
    "\n",
    "        return data_ingestion_config"
   ]
  },
  {
   "cell_type": "code",
   "execution_count": 8,
   "metadata": {},
   "outputs": [
    {
     "name": "stdout",
     "output_type": "stream",
     "text": [
      "[2024-06-07 18:08:32: INFO:config: PyTorch version 2.3.1 available.]\n"
     ]
    }
   ],
   "source": [
    "import zipfile\n",
    "import urllib.request as request\n",
    "from datasets import load_dataset\n",
    "from src.uc_api.logging import logger\n",
    "from src.uc_api.utils.common import get_size"
   ]
  },
  {
   "cell_type": "code",
   "execution_count": 9,
   "metadata": {},
   "outputs": [],
   "source": [
    "import kaggle\n",
    "\n",
    "class DataIngestion:\n",
    "    def __init__(self, config: DataIngestionConfig):\n",
    "        self.config = config\n",
    "    \n",
    "    def download_file(self, source=None):    \n",
    "        \"\"\"\n",
    "        source: Path\n",
    "        Download data from kaggle in zip format\n",
    "        Download data from URL in zip format\n",
    "        Function returns None\n",
    "        \"\"\"                   \n",
    "        if not os.path.exists(self.config.local_data_file):\n",
    "            # Downlad data from kaggle in zip form\n",
    "            if source == \"kaggle\":\n",
    "                kaggle.api.authenticate()\n",
    "                kaggle.api.dataset_download_files(self.config.source_URL, self.config.root_dir, unzip=False)\n",
    "                os.rename(os.path.join(self.config.root_dir, self.config.outsource_file), self.config.local_data_file)\n",
    "                logger.info(f\"Dataset downloaded from {source}\")\n",
    "            # Downlad data from URL in zip form\n",
    "            else:\n",
    "                filename, headers = request.urlretrieve(\n",
    "                    url=self.config.source_URL, filename=self.config.local_data_file\n",
    "                )\n",
    "                logger.info(f\"{filename} download! with following info: \\n{headers}\")\n",
    "        else:\n",
    "            logger.info(\n",
    "                f\"File already exists of size: {get_size(Path(self.config.local_data_file))}\"\n",
    "            )\n",
    "\n",
    "    def extract_zip_file(self):\n",
    "        \"\"\"\n",
    "        zip_file_path: str\n",
    "        Extracts the zip file into the data directory\n",
    "        Function returns None\n",
    "        \"\"\"\n",
    "        unzip_path = self.config.unzip_dir\n",
    "        os.makedirs(unzip_path, exist_ok=True)\n",
    "        with zipfile.ZipFile(self.config.local_data_file, \"r\") as zip_ref:\n",
    "            zip_ref.extractall(unzip_path)\n",
    "\n",
    "    def convert_csv_to_train_and_test_datasets(self):\n",
    "        \"\"\"\n",
    "        zip_file_path: str\n",
    "        Extracts the zip file into the data directory\n",
    "        Function returns None\n",
    "        \"\"\"\n",
    "        try:\n",
    "            suffix = \"csv\"\n",
    "            filenames = os.listdir(self.config.unzip_dir)\n",
    "            selected_file = [\n",
    "                filename for filename in filenames if filename.endswith(suffix) and filename.__contains__(\"train\")\n",
    "            ][0]\n",
    "\n",
    "            dataset = load_dataset(\n",
    "                suffix, \n",
    "                data_files=os.path.join(self.config.unzip_dir, selected_file),\n",
    "                encoding='unicode_escape',\n",
    "                \n",
    "            )[\"train\"].train_test_split(test_size=self.config.data_split_ratio, seed=42)\n",
    "            dataset.save_to_disk(os.path.join(self.config.root_dir, \"processed\"))\n",
    "            logger.info(\"Successfully created arrow dataset\")\n",
    "        except Exception as e:\n",
    "            logger.info(\"Error creating arrow dataset\")\n",
    "            raise e"
   ]
  },
  {
   "cell_type": "code",
   "execution_count": 10,
   "metadata": {},
   "outputs": [
    {
     "name": "stdout",
     "output_type": "stream",
     "text": [
      "[2024-06-07 18:08:33: INFO:common: yaml file: config\\config.yaml loaded successfully]\n",
      "[2024-06-07 18:08:33: INFO:common: yaml file: params.yaml loaded successfully]\n",
      "[2024-06-07 18:08:33: INFO:common: created directory at: artifacts]\n",
      "[2024-06-07 18:08:33: INFO:common: created directory at: artifacts/data_ingestion]\n",
      "Dataset URL: https://www.kaggle.com/datasets/abhi8923shriv/sentiment-analysis-dataset\n",
      "[2024-06-07 18:08:44: INFO:4236571723: Dataset downloaded from kaggle]\n"
     ]
    },
    {
     "data": {
      "application/vnd.jupyter.widget-view+json": {
       "model_id": "7ccf67eedb7a4adc9149f2abc57f6833",
       "version_major": 2,
       "version_minor": 0
      },
      "text/plain": [
       "Generating train split: 0 examples [00:00, ? examples/s]"
      ]
     },
     "metadata": {},
     "output_type": "display_data"
    },
    {
     "data": {
      "application/vnd.jupyter.widget-view+json": {
       "model_id": "7edc60bd63ae4146a1dcec0ea99a11aa",
       "version_major": 2,
       "version_minor": 0
      },
      "text/plain": [
       "Saving the dataset (0/1 shards):   0%|          | 0/21984 [00:00<?, ? examples/s]"
      ]
     },
     "metadata": {},
     "output_type": "display_data"
    },
    {
     "data": {
      "application/vnd.jupyter.widget-view+json": {
       "model_id": "2158681bde074a64a1aa9e662a617fa3",
       "version_major": 2,
       "version_minor": 0
      },
      "text/plain": [
       "Saving the dataset (0/1 shards):   0%|          | 0/5497 [00:00<?, ? examples/s]"
      ]
     },
     "metadata": {},
     "output_type": "display_data"
    },
    {
     "name": "stdout",
     "output_type": "stream",
     "text": [
      "[2024-06-07 18:08:48: INFO:4236571723: Successfully created arrow dataset]\n"
     ]
    }
   ],
   "source": [
    "try:\n",
    "    config = ConfigurationManager()\n",
    "    data_ingestion_config = config.get_data_ingestion_config()\n",
    "    data_ingestion = DataIngestion(config=data_ingestion_config)\n",
    "    data_ingestion.download_file(source=\"kaggle\")\n",
    "    data_ingestion.extract_zip_file()\n",
    "    data_ingestion.convert_csv_to_train_and_test_datasets()\n",
    "\n",
    "except Exception as e:\n",
    "    raise e"
   ]
  }
 ],
 "metadata": {
  "kernelspec": {
   "display_name": "uc-venv",
   "language": "python",
   "name": "python3"
  },
  "language_info": {
   "codemirror_mode": {
    "name": "ipython",
    "version": 3
   },
   "file_extension": ".py",
   "mimetype": "text/x-python",
   "name": "python",
   "nbconvert_exporter": "python",
   "pygments_lexer": "ipython3",
   "version": "3.11.7"
  }
 },
 "nbformat": 4,
 "nbformat_minor": 2
}
