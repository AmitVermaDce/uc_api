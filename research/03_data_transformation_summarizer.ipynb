{
 "cells": [
  {
   "cell_type": "code",
   "execution_count": 1,
   "metadata": {},
   "outputs": [],
   "source": [
    "import os"
   ]
  },
  {
   "cell_type": "code",
   "execution_count": 2,
   "metadata": {},
   "outputs": [
    {
     "data": {
      "text/plain": [
       "'c:\\\\Work\\\\Tasks\\\\Repo\\\\uc_api\\\\research'"
      ]
     },
     "execution_count": 2,
     "metadata": {},
     "output_type": "execute_result"
    }
   ],
   "source": [
    "%pwd"
   ]
  },
  {
   "cell_type": "code",
   "execution_count": 3,
   "metadata": {},
   "outputs": [],
   "source": [
    "os.chdir(\"../\")"
   ]
  },
  {
   "cell_type": "code",
   "execution_count": 4,
   "metadata": {},
   "outputs": [
    {
     "data": {
      "text/plain": [
       "'c:\\\\Work\\\\Tasks\\\\Repo\\\\uc_api'"
      ]
     },
     "execution_count": 4,
     "metadata": {},
     "output_type": "execute_result"
    }
   ],
   "source": [
    "%pwd"
   ]
  },
  {
   "cell_type": "code",
   "execution_count": 6,
   "metadata": {},
   "outputs": [],
   "source": [
    "from dataclasses import dataclass\n",
    "from pathlib import Path\n",
    "\n",
    "\n",
    "@dataclass(frozen=True)\n",
    "class SummarizerDataTransformationConfig:\n",
    "    # Common Configurations\n",
    "    root_dir: Path\n",
    "    dataset_path: Path\n",
    "    tokenizer_name: str\n",
    "\n",
    "    # # Common Parameters\n",
    "    # data_split_type: list \n",
    "\n",
    "    # # Parameters\n",
    "    # feature_column_name: str \n",
    "    # label_column_name: str \n",
    "    # # sentiment_class_dict: dict \n",
    "    # batch_size: int\n",
    "    # max_length: int"
   ]
  },
  {
   "cell_type": "code",
   "execution_count": 7,
   "metadata": {},
   "outputs": [],
   "source": [
    "from src.uc_api.constants import *\n",
    "from src.uc_api.utils.common import read_yaml, create_directories"
   ]
  },
  {
   "cell_type": "code",
   "execution_count": 8,
   "metadata": {},
   "outputs": [],
   "source": [
    "class ConfigurationManager:\n",
    "\n",
    "    def __init__(\n",
    "        self, config_filepath=CONFIG_FILE_PATH, params_filepath=PARAMS_FILE_PATH\n",
    "    ):\n",
    "        # Reading yaml files for config and params\n",
    "        self.config = read_yaml(config_filepath)\n",
    "        self.params = read_yaml(params_filepath)\n",
    "        create_directories([self.config.artifacts_root])\n",
    "\n",
    "    \n",
    "    def get_summarizer_data_transformation_config(self) -> SummarizerDataTransformationConfig:\n",
    "        # Common configurations from yaml file\n",
    "        config = self.config.data_transformation\n",
    "\n",
    "        # Common Parameters from yaml file\n",
    "        params_common = self.params.CommonArguments\n",
    "\n",
    "        # Parameters picked from use-case specific parameters\n",
    "        params = self.params.SentimentArguments        \n",
    "\n",
    "        create_directories([config.root_dir])\n",
    "\n",
    "        # Populating the data class \n",
    "        data_transformation_config = SummarizerDataTransformationConfig(\n",
    "            # Common Configurations\n",
    "            root_dir=config.root_dir,\n",
    "            dataset_path=config.dataset_path,\n",
    "            tokenizer_name=config.tokenizer_name,\n",
    "\n",
    "            # # Common Parameters\n",
    "            # data_split_type=params_common.data_split_type,\n",
    "\n",
    "            # # Use-case specific params -- Sentiment            \n",
    "            # feature_column_name=params.feature_column_name,\n",
    "            # label_column_name=params.label_column_name,\n",
    "            # sentiment_class_dict = params.sentiment_class_dict,\n",
    "            # batch_size=params.batch_size,\n",
    "            # max_length=params.max_length,\n",
    "        )\n",
    "\n",
    "        return data_transformation_config"
   ]
  },
  {
   "cell_type": "code",
   "execution_count": null,
   "metadata": {},
   "outputs": [],
   "source": []
  }
 ],
 "metadata": {
  "kernelspec": {
   "display_name": "uc_api_venv",
   "language": "python",
   "name": "python3"
  },
  "language_info": {
   "codemirror_mode": {
    "name": "ipython",
    "version": 3
   },
   "file_extension": ".py",
   "mimetype": "text/x-python",
   "name": "python",
   "nbconvert_exporter": "python",
   "pygments_lexer": "ipython3",
   "version": "3.11.7"
  }
 },
 "nbformat": 4,
 "nbformat_minor": 2
}
