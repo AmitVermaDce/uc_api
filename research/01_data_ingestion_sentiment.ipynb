{
 "cells": [
  {
   "cell_type": "code",
   "execution_count": 1,
   "metadata": {},
   "outputs": [],
   "source": [
    "import os"
   ]
  },
  {
   "cell_type": "code",
   "execution_count": 2,
   "metadata": {},
   "outputs": [
    {
     "data": {
      "text/plain": [
       "'c:\\\\Work\\\\Tasks\\\\Repo\\\\uc_api\\\\research'"
      ]
     },
     "execution_count": 2,
     "metadata": {},
     "output_type": "execute_result"
    }
   ],
   "source": [
    "%pwd"
   ]
  },
  {
   "cell_type": "code",
   "execution_count": 3,
   "metadata": {},
   "outputs": [],
   "source": [
    "os.chdir(\"../\")"
   ]
  },
  {
   "cell_type": "code",
   "execution_count": 4,
   "metadata": {},
   "outputs": [
    {
     "data": {
      "text/plain": [
       "'c:\\\\Work\\\\Tasks\\\\Repo\\\\uc_api'"
      ]
     },
     "execution_count": 4,
     "metadata": {},
     "output_type": "execute_result"
    }
   ],
   "source": [
    "%pwd"
   ]
  },
  {
   "cell_type": "code",
   "execution_count": 5,
   "metadata": {},
   "outputs": [],
   "source": [
    "from dataclasses import dataclass\n",
    "from pathlib import Path\n",
    "\n",
    "\n",
    "@dataclass(frozen=True)\n",
    "class DataIngestionConfig:\n",
    "    # Common Configurations\n",
    "    root_dir: Path   \n",
    "    unzip_dir: Path   \n",
    "    local_data_file: Path\n",
    "\n",
    "    # Common Parameters\n",
    "    data_split_type: list\n",
    "    data_split_ratio: float   \n",
    "\n",
    "    # Parameters\n",
    "    source_URL: Path  \n",
    "    outsource_file: Path\n",
    "    feature_column_name: str\n",
    "    label_column_name: str    "
   ]
  },
  {
   "cell_type": "code",
   "execution_count": 6,
   "metadata": {},
   "outputs": [],
   "source": [
    "from src.uc_api.constants import *\n",
    "from src.uc_api.utils.common import read_yaml, create_directories"
   ]
  },
  {
   "cell_type": "code",
   "execution_count": 7,
   "metadata": {},
   "outputs": [],
   "source": [
    "class ConfigurationManager:\n",
    "    def __init__(self, \n",
    "                 config_filepath=CONFIG_FILE_PATH,\n",
    "                 params_filepath=PARAMS_FILE_PATH,\n",
    "        ):\n",
    "\n",
    "        # Reading yaml files for config and params    \n",
    "        self.config = read_yaml(config_filepath) \n",
    "        self.params = read_yaml(params_filepath)  \n",
    "\n",
    "        create_directories([self.config.artifacts_root])\n",
    "\n",
    "    def get_data_ingestion_config(self) -> DataIngestionConfig:\n",
    "        # Data Ingestion configurations from yaml file\n",
    "        config = self.config.data_ingestion\n",
    "\n",
    "        # Common Arguments Parameters from yaml file\n",
    "        params_common = self.params.CommonArguments\n",
    "\n",
    "        # Use case specific(Sentiment) parameters from yaml file\n",
    "        params = self.params.SentimentArguments   \n",
    "\n",
    "        create_directories([config.root_dir])\n",
    "\n",
    "        data_ingestion_config = DataIngestionConfig(\n",
    "            # Data Ingestion configurations\n",
    "            root_dir=config.root_dir,\n",
    "            unzip_dir=config.unzip_dir,\n",
    "            local_data_file=config.local_data_file,\n",
    "\n",
    "            # Common Arguments Parameters\n",
    "            data_split_type=params_common.data_split_type,\n",
    "            data_split_ratio=params_common.data_split_ratio,\n",
    "\n",
    "            # Use case specific parameters   \n",
    "            source_URL=config.source_URL,\n",
    "            outsource_file=config.outsource_file, \n",
    "            feature_column_name=params.feature_column_name,\n",
    "            label_column_name = params.label_column_name,\n",
    "\n",
    "        )\n",
    "\n",
    "        return data_ingestion_config"
   ]
  },
  {
   "cell_type": "code",
   "execution_count": 8,
   "metadata": {},
   "outputs": [
    {
     "name": "stdout",
     "output_type": "stream",
     "text": [
      "[2024-06-10 10:06:50: INFO:config: PyTorch version 2.3.1 available.]\n"
     ]
    }
   ],
   "source": [
    "import zipfile\n",
    "import urllib.request as request\n",
    "from datasets import *\n",
    "from src.uc_api.logging import logger\n",
    "from src.uc_api.utils.common import get_size"
   ]
  },
  {
   "cell_type": "code",
   "execution_count": 9,
   "metadata": {},
   "outputs": [],
   "source": [
    "import kaggle\n",
    "\n",
    "class DataIngestion:\n",
    "    def __init__(self, config: DataIngestionConfig):\n",
    "        self.config = config\n",
    "    \n",
    "    def download_file(self, source=None):    \n",
    "        \"\"\"\n",
    "        source: Path\n",
    "        Download data from kaggle in zip format\n",
    "        Download data from URL in zip format\n",
    "        Function returns None\n",
    "        \"\"\"                   \n",
    "        if not os.path.exists(self.config.local_data_file):\n",
    "            # Downlad data from kaggle in zip form\n",
    "            if source == \"kaggle\":\n",
    "                kaggle.api.authenticate()\n",
    "                kaggle.api.dataset_download_files(self.config.source_URL, self.config.root_dir, unzip=False)\n",
    "                os.rename(os.path.join(self.config.root_dir, self.config.outsource_file), self.config.local_data_file)\n",
    "                logger.info(f\"Dataset downloaded from {source}\")\n",
    "            # Downlad data from URL in zip form\n",
    "            else:\n",
    "                filename, headers = request.urlretrieve(\n",
    "                    url=self.config.source_URL, filename=self.config.local_data_file\n",
    "                )\n",
    "                logger.info(f\"{filename} download! with following info: \\n{headers}\")\n",
    "        else:\n",
    "            logger.info(\n",
    "                f\"File already exists of size: {get_size(Path(self.config.local_data_file))}\"\n",
    "            )\n",
    "\n",
    "    def extract_zip_file(self):\n",
    "        \"\"\"\n",
    "        zip_file_path: str\n",
    "        Extracts the zip file into the data directory\n",
    "        Function returns None\n",
    "        \"\"\"\n",
    "        unzip_path = self.config.unzip_dir\n",
    "        os.makedirs(unzip_path, exist_ok=True)\n",
    "        with zipfile.ZipFile(self.config.local_data_file, \"r\") as zip_ref:\n",
    "            zip_ref.extractall(unzip_path)\n",
    "\n",
    "    def convert_csv_to_train_and_test_datasets(self):\n",
    "        \"\"\"\n",
    "        zip_file_path: str\n",
    "        Extracts the zip file into the data directory\n",
    "        Function returns None\n",
    "        \"\"\"\n",
    "        try:\n",
    "            suffix = \"csv\"\n",
    "            filenames = os.listdir(self.config.unzip_dir)\n",
    "            selected_file = [\n",
    "                filename for filename in filenames if filename.endswith(suffix) and filename.__contains__(\"train\")\n",
    "            ][0]\n",
    "\n",
    "            # Splitting the dataset in train and test dataset\n",
    "            train_test_dataset = load_dataset(\n",
    "                suffix, \n",
    "                data_files=os.path.join(self.config.unzip_dir, selected_file),\n",
    "                encoding='unicode_escape',                \n",
    "            )[\"train\"].train_test_split(test_size=self.config.data_split_ratio, seed=42)\n",
    "\n",
    "            # Splitting the dataset in test and validation dataset\n",
    "            test_valid_dataset = train_test_dataset[\"test\"].train_test_split(test_size=0.5)\n",
    "\n",
    "            # Dataset split dictionary\n",
    "            dataset = DatasetDict({\n",
    "                \"train\": train_test_dataset[\"train\"],\n",
    "                \"validation\": test_valid_dataset[\"train\"],\n",
    "                \"test\": test_valid_dataset[\"test\"],\n",
    "            })\n",
    "\n",
    "            # Filteration of the columns based on the dataset split dictionary\n",
    "            columns_to_keep = [self.config.feature_column_name, self.config.label_column_name]            \n",
    "            def filter_columns(example):\n",
    "                return {key: example[key] for key in columns_to_keep}\n",
    "            \n",
    "            # remove unncessary columns from each Data split\n",
    "            for split_type in dataset.keys():\n",
    "                dataset[split_type] = dataset[split_type].map(filter_columns, remove_columns=dataset[split_type].column_names)\n",
    "            # Save the dataloader\n",
    "            dataset.save_to_disk(os.path.join(self.config.root_dir, \"processed\"))\n",
    "            print(dataset)\n",
    "            logger.info(\"Successfully created arrow dataset\")\n",
    "        except Exception as e:\n",
    "            logger.info(\"Error creating arrow dataset\")\n",
    "            raise e"
   ]
  },
  {
   "cell_type": "code",
   "execution_count": 10,
   "metadata": {},
   "outputs": [
    {
     "name": "stdout",
     "output_type": "stream",
     "text": [
      "[2024-06-10 10:06:51: INFO:common: yaml file: config\\config.yaml loaded successfully]\n",
      "[2024-06-10 10:06:51: INFO:common: yaml file: params.yaml loaded successfully]\n",
      "[2024-06-10 10:06:51: INFO:common: created directory at: artifacts]\n",
      "[2024-06-10 10:06:51: INFO:common: created directory at: artifacts/data_ingestion]\n",
      "Dataset URL: https://www.kaggle.com/datasets/abhi8923shriv/sentiment-analysis-dataset\n",
      "[2024-06-10 10:06:59: INFO:2524217308: Dataset downloaded from kaggle]\n"
     ]
    },
    {
     "data": {
      "application/vnd.jupyter.widget-view+json": {
       "model_id": "523396cdc4744b978fe9dbede4dc2daf",
       "version_major": 2,
       "version_minor": 0
      },
      "text/plain": [
       "Generating train split: 0 examples [00:00, ? examples/s]"
      ]
     },
     "metadata": {},
     "output_type": "display_data"
    },
    {
     "data": {
      "application/vnd.jupyter.widget-view+json": {
       "model_id": "fdbfaa94c43e48ef934c7aa65d07b1bd",
       "version_major": 2,
       "version_minor": 0
      },
      "text/plain": [
       "Map:   0%|          | 0/21984 [00:00<?, ? examples/s]"
      ]
     },
     "metadata": {},
     "output_type": "display_data"
    },
    {
     "data": {
      "application/vnd.jupyter.widget-view+json": {
       "model_id": "4811152667f54d5e8375f8df16d3375a",
       "version_major": 2,
       "version_minor": 0
      },
      "text/plain": [
       "Map:   0%|          | 0/2748 [00:00<?, ? examples/s]"
      ]
     },
     "metadata": {},
     "output_type": "display_data"
    },
    {
     "data": {
      "application/vnd.jupyter.widget-view+json": {
       "model_id": "3697a4cbd3974922875d3ec33ef2cb87",
       "version_major": 2,
       "version_minor": 0
      },
      "text/plain": [
       "Map:   0%|          | 0/2749 [00:00<?, ? examples/s]"
      ]
     },
     "metadata": {},
     "output_type": "display_data"
    },
    {
     "data": {
      "application/vnd.jupyter.widget-view+json": {
       "model_id": "09cc2a85c42548e1998e7fa46f9e72c3",
       "version_major": 2,
       "version_minor": 0
      },
      "text/plain": [
       "Saving the dataset (0/1 shards):   0%|          | 0/21984 [00:00<?, ? examples/s]"
      ]
     },
     "metadata": {},
     "output_type": "display_data"
    },
    {
     "data": {
      "application/vnd.jupyter.widget-view+json": {
       "model_id": "ffcd5dce442544bcaad689ce562cb117",
       "version_major": 2,
       "version_minor": 0
      },
      "text/plain": [
       "Saving the dataset (0/1 shards):   0%|          | 0/2748 [00:00<?, ? examples/s]"
      ]
     },
     "metadata": {},
     "output_type": "display_data"
    },
    {
     "data": {
      "application/vnd.jupyter.widget-view+json": {
       "model_id": "0068f5f39fef4454b1f46b68a3d6d9e1",
       "version_major": 2,
       "version_minor": 0
      },
      "text/plain": [
       "Saving the dataset (0/1 shards):   0%|          | 0/2749 [00:00<?, ? examples/s]"
      ]
     },
     "metadata": {},
     "output_type": "display_data"
    },
    {
     "name": "stdout",
     "output_type": "stream",
     "text": [
      "DatasetDict({\n",
      "    train: Dataset({\n",
      "        features: ['text', 'sentiment'],\n",
      "        num_rows: 21984\n",
      "    })\n",
      "    validation: Dataset({\n",
      "        features: ['text', 'sentiment'],\n",
      "        num_rows: 2748\n",
      "    })\n",
      "    test: Dataset({\n",
      "        features: ['text', 'sentiment'],\n",
      "        num_rows: 2749\n",
      "    })\n",
      "})\n",
      "[2024-06-10 10:07:06: INFO:2524217308: Successfully created arrow dataset]\n"
     ]
    }
   ],
   "source": [
    "try:\n",
    "    config = ConfigurationManager()\n",
    "    data_ingestion_config = config.get_data_ingestion_config()\n",
    "    data_ingestion = DataIngestion(config=data_ingestion_config)\n",
    "    data_ingestion.download_file(source=\"kaggle\")\n",
    "    data_ingestion.extract_zip_file()\n",
    "    data_ingestion.convert_csv_to_train_and_test_datasets()\n",
    "\n",
    "except Exception as e:\n",
    "    raise e"
   ]
  }
 ],
 "metadata": {
  "kernelspec": {
   "display_name": "uc-venv",
   "language": "python",
   "name": "python3"
  },
  "language_info": {
   "codemirror_mode": {
    "name": "ipython",
    "version": 3
   },
   "file_extension": ".py",
   "mimetype": "text/x-python",
   "name": "python",
   "nbconvert_exporter": "python",
   "pygments_lexer": "ipython3",
   "version": "3.11.7"
  }
 },
 "nbformat": 4,
 "nbformat_minor": 2
}
