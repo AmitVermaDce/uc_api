{
 "cells": [
  {
   "cell_type": "code",
   "execution_count": 1,
   "metadata": {},
   "outputs": [],
   "source": [
    "import os"
   ]
  },
  {
   "cell_type": "code",
   "execution_count": 2,
   "metadata": {},
   "outputs": [
    {
     "data": {
      "text/plain": [
       "'c:\\\\Work\\\\Tasks\\\\Repo\\\\uc_api\\\\research'"
      ]
     },
     "execution_count": 2,
     "metadata": {},
     "output_type": "execute_result"
    }
   ],
   "source": [
    "%pwd"
   ]
  },
  {
   "cell_type": "code",
   "execution_count": 3,
   "metadata": {},
   "outputs": [],
   "source": [
    "os.chdir(\"../\")"
   ]
  },
  {
   "cell_type": "code",
   "execution_count": 4,
   "metadata": {},
   "outputs": [
    {
     "data": {
      "text/plain": [
       "'c:\\\\Work\\\\Tasks\\\\Repo\\\\uc_api'"
      ]
     },
     "execution_count": 4,
     "metadata": {},
     "output_type": "execute_result"
    }
   ],
   "source": [
    "%pwd"
   ]
  },
  {
   "cell_type": "code",
   "execution_count": 5,
   "metadata": {},
   "outputs": [],
   "source": [
    "from dataclasses import dataclass\n",
    "from pathlib import Path\n",
    "\n",
    "\n",
    "@dataclass(frozen=True)\n",
    "class DataTransformationConfig:\n",
    "    # Common Configurations\n",
    "    root_dir: Path\n",
    "    dataset_path: Path\n",
    "    tokenizer_name: str\n",
    "\n",
    "    # Common Parameters\n",
    "    data_split_type: list \n",
    "\n",
    "    # Parameters\n",
    "    feature_column_name: str \n",
    "    label_column_name: str \n",
    "    sentiment_class_dict: dict \n",
    "    batch_size: int\n",
    "    max_length: int"
   ]
  },
  {
   "cell_type": "code",
   "execution_count": 6,
   "metadata": {},
   "outputs": [],
   "source": [
    "from src.uc_api.constants import *\n",
    "from src.uc_api.utils.common import read_yaml, create_directories"
   ]
  },
  {
   "cell_type": "code",
   "execution_count": 7,
   "metadata": {},
   "outputs": [],
   "source": [
    "class ConfigurationManager:\n",
    "\n",
    "    def __init__(\n",
    "        self, config_filepath=CONFIG_FILE_PATH, params_filepath=PARAMS_FILE_PATH\n",
    "    ):\n",
    "        # Reading yaml files for config and params\n",
    "        self.config = read_yaml(config_filepath)\n",
    "        self.params = read_yaml(params_filepath)\n",
    "        create_directories([self.config.artifacts_root])\n",
    "\n",
    "    \n",
    "    def get_data_transformation_config(self) -> DataTransformationConfig:\n",
    "        # Common configurations from yaml file\n",
    "        config = self.config.data_transformation\n",
    "\n",
    "        # Common Parameters from yaml file\n",
    "        params_common = self.params.CommonArguments\n",
    "\n",
    "        # Parameters picked from use-case specific parameters\n",
    "        params = self.params.SentimentArguments        \n",
    "\n",
    "        create_directories([config.root_dir])\n",
    "\n",
    "        # Populating the data class \n",
    "        data_transformation_config = DataTransformationConfig(\n",
    "            # Common Configurations\n",
    "            root_dir=config.root_dir,\n",
    "            dataset_path=config.dataset_path,\n",
    "            tokenizer_name=config.tokenizer_name,\n",
    "\n",
    "            # Common Parameters\n",
    "            data_split_type=params_common.data_split_type,\n",
    "\n",
    "            # Use-case specific params -- Sentiment            \n",
    "            feature_column_name=params.feature_column_name,\n",
    "            label_column_name=params.label_column_name,\n",
    "            sentiment_class_dict = params.sentiment_class_dict,\n",
    "            batch_size=params.batch_size,\n",
    "            max_length=params.max_length,\n",
    "        )\n",
    "\n",
    "        return data_transformation_config"
   ]
  },
  {
   "cell_type": "code",
   "execution_count": 8,
   "metadata": {},
   "outputs": [
    {
     "name": "stdout",
     "output_type": "stream",
     "text": [
      "[2024-06-10 10:07:39: INFO:config: PyTorch version 2.3.1 available.]\n"
     ]
    }
   ],
   "source": [
    "import torch\n",
    "from torch.utils.data import Dataset, DataLoader\n",
    "\n",
    "\n",
    "from transformers import BertTokenizer\n",
    "from datasets import load_from_disk \n",
    "from src.uc_api.logging import logger"
   ]
  },
  {
   "cell_type": "code",
   "execution_count": 9,
   "metadata": {},
   "outputs": [],
   "source": [
    "class SentimentDataset(Dataset):\n",
    "    def __init__(self, text, sentimentRating, tokenizer, max_length):\n",
    "        self.text = text\n",
    "        self.sentimentRating = sentimentRating\n",
    "        self.tokenizer = tokenizer\n",
    "        self.max_length = max_length\n",
    "\n",
    "    def __len__(self):\n",
    "        return len(self.text)\n",
    "\n",
    "    def __getitem__(self, item):\n",
    "        text = str(self.text[item])\n",
    "\n",
    "        encoding = self.tokenizer.encode_plus(\n",
    "            text,\n",
    "            add_special_tokens=True,\n",
    "            max_length=self.max_length,\n",
    "            return_token_type_ids=False,\n",
    "            padding=\"max_length\",\n",
    "            return_attention_mask=True,\n",
    "            return_tensors=\"pt\",\n",
    "            truncation=True,\n",
    "        )\n",
    "        return {\n",
    "            \"text\": text,\n",
    "            \"input_ids\": encoding[\"input_ids\"].flatten(),\n",
    "            \"attention_mask\": encoding[\"attention_mask\"].flatten(),\n",
    "            \"sentimentRating\": torch.tensor(\n",
    "                self.sentimentRating[item], dtype=torch.long\n",
    "            ),\n",
    "        }"
   ]
  },
  {
   "cell_type": "code",
   "execution_count": 10,
   "metadata": {},
   "outputs": [],
   "source": [
    "class SentimentDataTransformation:\n",
    "\n",
    "    def __init__(self, config: DataTransformationConfig):\n",
    "        self.config = config\n",
    "\n",
    "    def transform_and_save_to_file(self):\n",
    "        # loading the dataloder for transformation\n",
    "        dataset = load_from_disk(self.config.dataset_path)\n",
    "        # print(data_set)\n",
    "        \n",
    "        for dataset_type in self.config.data_split_type:\n",
    "            ds = SentimentDataset(\n",
    "\n",
    "                # feature\n",
    "                text=dataset[dataset_type][self.config.feature_column_name],\n",
    "\n",
    "                # Label in negative: 0, neutral: 1, positive: 2\n",
    "                sentimentRating=[self.config.sentiment_class_dict[element] for element in dataset[dataset_type][self.config.label_column_name]],\n",
    "                tokenizer=BertTokenizer.from_pretrained(\n",
    "                    self.config.tokenizer_name,\n",
    "                ),\n",
    "                # \n",
    "                max_length=self.config.max_length,\n",
    "            )\n",
    "            # Saving the dataloader based on the data split type\n",
    "            torch.save( \n",
    "                DataLoader(\n",
    "                    ds,\n",
    "                    batch_size=self.config.batch_size,\n",
    "                ),\n",
    "                os.path.join(self.config.root_dir, f\"{dataset_type}_dataloader.pt\"),\n",
    "            )\n",
    "            logger.info(\n",
    "                f\"\"\"Successfully saved {dataset_type} dataloader to {self.config.root_dir}\"\"\"\n",
    "            )"
   ]
  },
  {
   "cell_type": "code",
   "execution_count": 11,
   "metadata": {},
   "outputs": [
    {
     "name": "stdout",
     "output_type": "stream",
     "text": [
      "[2024-06-10 10:07:40: INFO:common: yaml file: config\\config.yaml loaded successfully]\n",
      "[2024-06-10 10:07:40: INFO:common: yaml file: params.yaml loaded successfully]\n",
      "[2024-06-10 10:07:40: INFO:common: created directory at: artifacts]\n",
      "[2024-06-10 10:07:40: INFO:common: created directory at: artifacts/data_transformation]\n",
      "[2024-06-10 10:07:40: INFO:3235233465: Successfully saved train dataloader to artifacts/data_transformation]\n",
      "[2024-06-10 10:07:41: INFO:3235233465: Successfully saved test dataloader to artifacts/data_transformation]\n",
      "[2024-06-10 10:07:41: INFO:3235233465: Successfully saved validation dataloader to artifacts/data_transformation]\n"
     ]
    }
   ],
   "source": [
    "try:\n",
    "    config = ConfigurationManager()\n",
    "    data_transformation_config = config.get_data_transformation_config()\n",
    "    data_transformation = SentimentDataTransformation(config=data_transformation_config)\n",
    "    data_transformation.transform_and_save_to_file()\n",
    "except Exception as e:\n",
    "    logger.info(\"Error creating dataloader\")\n",
    "    raise e"
   ]
  }
 ],
 "metadata": {
  "kernelspec": {
   "display_name": "uc-venv",
   "language": "python",
   "name": "python3"
  },
  "language_info": {
   "codemirror_mode": {
    "name": "ipython",
    "version": 3
   },
   "file_extension": ".py",
   "mimetype": "text/x-python",
   "name": "python",
   "nbconvert_exporter": "python",
   "pygments_lexer": "ipython3",
   "version": "3.11.7"
  }
 },
 "nbformat": 4,
 "nbformat_minor": 2
}
